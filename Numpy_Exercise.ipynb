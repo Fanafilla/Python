{
 "cells": [
  {
   "cell_type": "markdown",
   "id": "b38940a4",
   "metadata": {},
   "source": [
    "# ndarray\n",
    "ndarraya are time and space_efficint multidimensional arrays at the core of numpy. like the data structure in week 2, lets get started by creating ndarrays using the numpy packages."
   ]
  },
  {
   "cell_type": "code",
   "execution_count": 1,
   "id": "40654c19",
   "metadata": {},
   "outputs": [],
   "source": [
    "import numpy as np\n",
    "an_array=np.array([3,33,333])"
   ]
  },
  {
   "cell_type": "code",
   "execution_count": 2,
   "id": "b10c55db",
   "metadata": {},
   "outputs": [
    {
     "data": {
      "text/plain": [
       "array([  3,  33, 333])"
      ]
     },
     "execution_count": 2,
     "metadata": {},
     "output_type": "execute_result"
    }
   ],
   "source": [
    "an_array"
   ]
  },
  {
   "cell_type": "code",
   "execution_count": 3,
   "id": "d7d5439d",
   "metadata": {},
   "outputs": [
    {
     "data": {
      "text/plain": [
       "(3,)"
      ]
     },
     "execution_count": 3,
     "metadata": {},
     "output_type": "execute_result"
    }
   ],
   "source": [
    "an_array.shape"
   ]
  },
  {
   "cell_type": "code",
   "execution_count": 4,
   "id": "7ceb385b",
   "metadata": {},
   "outputs": [],
   "source": [
    "an_array[0]=555"
   ]
  },
  {
   "cell_type": "code",
   "execution_count": 5,
   "id": "2d83a967",
   "metadata": {},
   "outputs": [
    {
     "data": {
      "text/plain": [
       "array([555,  33, 333])"
      ]
     },
     "execution_count": 5,
     "metadata": {},
     "output_type": "execute_result"
    }
   ],
   "source": [
    "an_array"
   ]
  },
  {
   "cell_type": "markdown",
   "id": "23654afd",
   "metadata": {},
   "source": [
    "# How to create Rank 2 numpy array:\n",
    "A rank 2 ndarray is one with two dimension. Notice the formet below of [[row],[row]]. 2 dimentional array are great for representing matrices whice are often useful in data science."
   ]
  },
  {
   "cell_type": "code",
   "execution_count": 6,
   "id": "8e6a79c5",
   "metadata": {},
   "outputs": [],
   "source": [
    "another=np.array([[11,12,13,14],[21,22,23,24]]) #create a rank 2 array"
   ]
  },
  {
   "cell_type": "code",
   "execution_count": 7,
   "id": "4f8d3c47",
   "metadata": {},
   "outputs": [
    {
     "data": {
      "text/plain": [
       "array([[11, 12, 13, 14],\n",
       "       [21, 22, 23, 24]])"
      ]
     },
     "execution_count": 7,
     "metadata": {},
     "output_type": "execute_result"
    }
   ],
   "source": [
    "another"
   ]
  },
  {
   "cell_type": "markdown",
   "id": "d6a1e301",
   "metadata": {},
   "source": [
    "# There are many way to create numpy array\n",
    "Here we create a number of different size arrays with different shapes not different pre-filled value numpy has a number of builds in methods whice help us quickly and easily create multidimensional array."
   ]
  },
  {
   "cell_type": "code",
   "execution_count": 8,
   "id": "4e4319ba",
   "metadata": {},
   "outputs": [],
   "source": [
    "ex1=np.zeros((2,2))"
   ]
  },
  {
   "cell_type": "code",
   "execution_count": 9,
   "id": "90d176ae",
   "metadata": {},
   "outputs": [
    {
     "data": {
      "text/plain": [
       "array([[0., 0.],\n",
       "       [0., 0.]])"
      ]
     },
     "execution_count": 9,
     "metadata": {},
     "output_type": "execute_result"
    }
   ],
   "source": [
    "ex1"
   ]
  },
  {
   "cell_type": "code",
   "execution_count": 10,
   "id": "d4ad94ba",
   "metadata": {},
   "outputs": [],
   "source": [
    "ex2=np.full((2,2), 9.0)"
   ]
  },
  {
   "cell_type": "code",
   "execution_count": 11,
   "id": "41a01ca4",
   "metadata": {},
   "outputs": [
    {
     "data": {
      "text/plain": [
       "array([[9., 9.],\n",
       "       [9., 9.]])"
      ]
     },
     "execution_count": 11,
     "metadata": {},
     "output_type": "execute_result"
    }
   ],
   "source": [
    "ex2"
   ]
  },
  {
   "cell_type": "code",
   "execution_count": 12,
   "id": "ddf5cda2",
   "metadata": {},
   "outputs": [],
   "source": [
    "ex3=np.eye(2,2)"
   ]
  },
  {
   "cell_type": "code",
   "execution_count": 13,
   "id": "d415a77a",
   "metadata": {},
   "outputs": [
    {
     "data": {
      "text/plain": [
       "array([[1., 0.],\n",
       "       [0., 1.]])"
      ]
     },
     "execution_count": 13,
     "metadata": {},
     "output_type": "execute_result"
    }
   ],
   "source": [
    "ex3"
   ]
  },
  {
   "cell_type": "code",
   "execution_count": 14,
   "id": "72d94405",
   "metadata": {},
   "outputs": [],
   "source": [
    "ex4=np.ones((1,2))"
   ]
  },
  {
   "cell_type": "code",
   "execution_count": 15,
   "id": "06be2e7f",
   "metadata": {},
   "outputs": [
    {
     "data": {
      "text/plain": [
       "array([[1., 1.]])"
      ]
     },
     "execution_count": 15,
     "metadata": {},
     "output_type": "execute_result"
    }
   ],
   "source": [
    "ex4"
   ]
  },
  {
   "cell_type": "code",
   "execution_count": 16,
   "id": "b818302e",
   "metadata": {},
   "outputs": [
    {
     "data": {
      "text/plain": [
       "(1, 2)"
      ]
     },
     "execution_count": 16,
     "metadata": {},
     "output_type": "execute_result"
    }
   ],
   "source": [
    "ex4.shape"
   ]
  },
  {
   "cell_type": "code",
   "execution_count": 17,
   "id": "76057cfa",
   "metadata": {},
   "outputs": [],
   "source": [
    "ex5=np.random.random((2,2))"
   ]
  },
  {
   "cell_type": "code",
   "execution_count": 18,
   "id": "bdf136ff",
   "metadata": {},
   "outputs": [
    {
     "data": {
      "text/plain": [
       "array([[0.95801103, 0.59135017],\n",
       "       [0.3919263 , 0.6067648 ]])"
      ]
     },
     "execution_count": 18,
     "metadata": {},
     "output_type": "execute_result"
    }
   ],
   "source": [
    "ex5"
   ]
  },
  {
   "cell_type": "markdown",
   "id": "0c9b06f6",
   "metadata": {},
   "source": [
    "# Array Indexing\n",
    "Slice indexing - \n",
    "Similar to the use of slice indexing with list and strings. We can use the slice indexing to pull out sub-regions of narrays."
   ]
  },
  {
   "cell_type": "code",
   "execution_count": 19,
   "id": "d9d07494",
   "metadata": {},
   "outputs": [],
   "source": [
    "an_array=np.array([[11,12,13,14],[21,22,23,24],[31,32,33,34]])"
   ]
  },
  {
   "cell_type": "code",
   "execution_count": 20,
   "id": "c22ee78e",
   "metadata": {},
   "outputs": [
    {
     "data": {
      "text/plain": [
       "array([[11, 12, 13, 14],\n",
       "       [21, 22, 23, 24],\n",
       "       [31, 32, 33, 34]])"
      ]
     },
     "execution_count": 20,
     "metadata": {},
     "output_type": "execute_result"
    }
   ],
   "source": [
    "an_array"
   ]
  },
  {
   "cell_type": "code",
   "execution_count": 21,
   "id": "5ce07c3f",
   "metadata": {},
   "outputs": [],
   "source": [
    "a_slice=an_array[:2, 1:3]"
   ]
  },
  {
   "cell_type": "code",
   "execution_count": 22,
   "id": "b6a62bb3",
   "metadata": {},
   "outputs": [
    {
     "data": {
      "text/plain": [
       "array([[12, 13],\n",
       "       [22, 23]])"
      ]
     },
     "execution_count": 22,
     "metadata": {},
     "output_type": "execute_result"
    }
   ],
   "source": [
    "a_slice"
   ]
  },
  {
   "cell_type": "markdown",
   "id": "5a607521",
   "metadata": {},
   "source": [
    "# Boolean indexing\n",
    "Array indexing for changing element:"
   ]
  },
  {
   "cell_type": "code",
   "execution_count": 23,
   "id": "92cbe318",
   "metadata": {},
   "outputs": [],
   "source": [
    "an_array=np.array([[11,12],[21,22],[31,32]])"
   ]
  },
  {
   "cell_type": "code",
   "execution_count": 24,
   "id": "16670da1",
   "metadata": {},
   "outputs": [
    {
     "data": {
      "text/plain": [
       "array([[11, 12],\n",
       "       [21, 22],\n",
       "       [31, 32]])"
      ]
     },
     "execution_count": 24,
     "metadata": {},
     "output_type": "execute_result"
    }
   ],
   "source": [
    "an_array"
   ]
  },
  {
   "cell_type": "code",
   "execution_count": 25,
   "id": "d13a2ed3",
   "metadata": {},
   "outputs": [],
   "source": [
    "filter=(an_array>15)"
   ]
  },
  {
   "cell_type": "code",
   "execution_count": 26,
   "id": "89c4745e",
   "metadata": {},
   "outputs": [
    {
     "data": {
      "text/plain": [
       "array([[False, False],\n",
       "       [ True,  True],\n",
       "       [ True,  True]])"
      ]
     },
     "execution_count": 26,
     "metadata": {},
     "output_type": "execute_result"
    }
   ],
   "source": [
    "filter"
   ]
  },
  {
   "cell_type": "code",
   "execution_count": 27,
   "id": "3d53385b",
   "metadata": {},
   "outputs": [
    {
     "data": {
      "text/plain": [
       "array([21, 22])"
      ]
     },
     "execution_count": 27,
     "metadata": {},
     "output_type": "execute_result"
    }
   ],
   "source": [
    "an_array[(an_array>20)&(an_array<30)]"
   ]
  },
  {
   "cell_type": "code",
   "execution_count": 28,
   "id": "a81f05a7",
   "metadata": {},
   "outputs": [
    {
     "data": {
      "text/plain": [
       "array([12, 22, 32])"
      ]
     },
     "execution_count": 28,
     "metadata": {},
     "output_type": "execute_result"
    }
   ],
   "source": [
    "an_array[(an_array % 2 == 0)]"
   ]
  },
  {
   "cell_type": "markdown",
   "id": "6fde0bcd",
   "metadata": {},
   "source": [
    "# Datatypes and Array Operations\n",
    "#Datatypes"
   ]
  },
  {
   "cell_type": "code",
   "execution_count": 29,
   "id": "be5270b7",
   "metadata": {},
   "outputs": [],
   "source": [
    "import numpy as np\n",
    "ex1=np.array([11, 12])"
   ]
  },
  {
   "cell_type": "code",
   "execution_count": 30,
   "id": "71244d44",
   "metadata": {},
   "outputs": [
    {
     "data": {
      "text/plain": [
       "array([11, 12])"
      ]
     },
     "execution_count": 30,
     "metadata": {},
     "output_type": "execute_result"
    }
   ],
   "source": [
    "ex1"
   ]
  },
  {
   "cell_type": "code",
   "execution_count": 31,
   "id": "db4af982",
   "metadata": {},
   "outputs": [
    {
     "data": {
      "text/plain": [
       "dtype('int32')"
      ]
     },
     "execution_count": 31,
     "metadata": {},
     "output_type": "execute_result"
    }
   ],
   "source": [
    "ex1.dtype"
   ]
  },
  {
   "cell_type": "code",
   "execution_count": 32,
   "id": "43391cd1",
   "metadata": {},
   "outputs": [],
   "source": [
    "ex2=np.array([11.0, 12.0])"
   ]
  },
  {
   "cell_type": "code",
   "execution_count": 33,
   "id": "2fabfa1e",
   "metadata": {},
   "outputs": [
    {
     "data": {
      "text/plain": [
       "array([11., 12.])"
      ]
     },
     "execution_count": 33,
     "metadata": {},
     "output_type": "execute_result"
    }
   ],
   "source": [
    "ex2"
   ]
  },
  {
   "cell_type": "code",
   "execution_count": 34,
   "id": "197dd4de",
   "metadata": {},
   "outputs": [
    {
     "data": {
      "text/plain": [
       "dtype('float64')"
      ]
     },
     "execution_count": 34,
     "metadata": {},
     "output_type": "execute_result"
    }
   ],
   "source": [
    "ex2.dtype"
   ]
  },
  {
   "cell_type": "code",
   "execution_count": 35,
   "id": "81152e2a",
   "metadata": {},
   "outputs": [],
   "source": [
    "ex3=np.array([11, 12], dtype=np.int64)"
   ]
  },
  {
   "cell_type": "code",
   "execution_count": 36,
   "id": "12e93ed9",
   "metadata": {},
   "outputs": [
    {
     "data": {
      "text/plain": [
       "dtype('int64')"
      ]
     },
     "execution_count": 36,
     "metadata": {},
     "output_type": "execute_result"
    }
   ],
   "source": [
    "ex3.dtype"
   ]
  },
  {
   "cell_type": "code",
   "execution_count": 37,
   "id": "8e8d7bbc",
   "metadata": {},
   "outputs": [],
   "source": [
    "ex4=np.array([11.7, 12.1], dtype=np.int64)"
   ]
  },
  {
   "cell_type": "code",
   "execution_count": 38,
   "id": "a4c1d5a2",
   "metadata": {},
   "outputs": [
    {
     "data": {
      "text/plain": [
       "dtype('int64')"
      ]
     },
     "execution_count": 38,
     "metadata": {},
     "output_type": "execute_result"
    }
   ],
   "source": [
    "ex4.dtype"
   ]
  },
  {
   "cell_type": "markdown",
   "id": "828bdeae",
   "metadata": {},
   "source": [
    "# Arithmetic Array Operations"
   ]
  },
  {
   "cell_type": "code",
   "execution_count": 39,
   "id": "4fa0072e",
   "metadata": {},
   "outputs": [
    {
     "name": "stdout",
     "output_type": "stream",
     "text": [
      "[[111 112]\n",
      " [121 122]]\n",
      "[[211.1 212.1]\n",
      " [221.1 222.1]]\n"
     ]
    }
   ],
   "source": [
    "x=np.array([[111,112],[121,122]], dtype=np.int64)\n",
    "y=np.array([[211.1,212.1],[221.1,222.1]], dtype=np.float64)\n",
    "print(x)\n",
    "print(y)"
   ]
  },
  {
   "cell_type": "code",
   "execution_count": 40,
   "id": "29f433af",
   "metadata": {},
   "outputs": [
    {
     "name": "stdout",
     "output_type": "stream",
     "text": [
      "[[322.1 324.1]\n",
      " [342.1 344.1]]\n",
      "[[322.1 324.1]\n",
      " [342.1 344.1]]\n"
     ]
    }
   ],
   "source": [
    "print(x+y)\n",
    "print(np.add(x,y))"
   ]
  },
  {
   "cell_type": "code",
   "execution_count": 41,
   "id": "18bac628",
   "metadata": {},
   "outputs": [
    {
     "name": "stdout",
     "output_type": "stream",
     "text": [
      "[[-100.1 -100.1]\n",
      " [-100.1 -100.1]]\n",
      "[[-100.1 -100.1]\n",
      " [-100.1 -100.1]]\n"
     ]
    }
   ],
   "source": [
    "print(x-y)\n",
    "print(np.subtract(x,y))"
   ]
  },
  {
   "cell_type": "code",
   "execution_count": 42,
   "id": "ffa0d2bb",
   "metadata": {},
   "outputs": [
    {
     "name": "stdout",
     "output_type": "stream",
     "text": [
      "[[23432.1 23755.2]\n",
      " [26753.1 27096.2]]\n",
      "[[23432.1 23755.2]\n",
      " [26753.1 27096.2]]\n"
     ]
    }
   ],
   "source": [
    "print(x*y)\n",
    "print(np.multiply(x,y))"
   ]
  },
  {
   "cell_type": "code",
   "execution_count": 43,
   "id": "f41e2fc7",
   "metadata": {},
   "outputs": [
    {
     "name": "stdout",
     "output_type": "stream",
     "text": [
      "[[0.52581715 0.52805281]\n",
      " [0.54726368 0.54930212]]\n",
      "[[0.52581715 0.52805281]\n",
      " [0.54726368 0.54930212]]\n"
     ]
    }
   ],
   "source": [
    "print(x/y)\n",
    "print(np.divide(x,y))"
   ]
  },
  {
   "cell_type": "code",
   "execution_count": 44,
   "id": "906a2b2e",
   "metadata": {},
   "outputs": [
    {
     "name": "stdout",
     "output_type": "stream",
     "text": [
      "[[10.53565375 10.58300524]\n",
      " [11.         11.04536102]]\n"
     ]
    }
   ],
   "source": [
    "# square root\n",
    "print(np.sqrt(x,y))"
   ]
  },
  {
   "cell_type": "code",
   "execution_count": 45,
   "id": "1119a6ad",
   "metadata": {},
   "outputs": [
    {
     "name": "stdout",
     "output_type": "stream",
     "text": [
      "[[1.60948707e+48 4.37503945e+48]\n",
      " [3.54513118e+52 9.63666567e+52]]\n"
     ]
    }
   ],
   "source": [
    "# exponent (e ** x)\n",
    "print(np.exp(x))"
   ]
  },
  {
   "cell_type": "markdown",
   "id": "77aec097",
   "metadata": {},
   "source": [
    "# Statistical Methods, Sorting and Set Operatiopns:"
   ]
  },
  {
   "cell_type": "markdown",
   "id": "9cd163aa",
   "metadata": {},
   "source": [
    "# Basic Statistical operations:"
   ]
  },
  {
   "cell_type": "code",
   "execution_count": 46,
   "id": "75353c14",
   "metadata": {},
   "outputs": [
    {
     "name": "stdout",
     "output_type": "stream",
     "text": [
      "[[  3.70957319  -5.38141018  12.96590578   5.91664424   5.43712294]\n",
      " [-14.94715115   6.78255177   2.23850832   1.60678661  -4.16682826]]\n"
     ]
    }
   ],
   "source": [
    "# setup a random 2*4 matrix\n",
    "arr= 10*np.random.randn(2,5)\n",
    "print(arr)"
   ]
  },
  {
   "cell_type": "code",
   "execution_count": 47,
   "id": "c1f51dbb",
   "metadata": {},
   "outputs": [
    {
     "name": "stdout",
     "output_type": "stream",
     "text": [
      "1.4161703255368419\n"
     ]
    }
   ],
   "source": [
    "print(arr.mean())"
   ]
  },
  {
   "cell_type": "code",
   "execution_count": 48,
   "id": "fdfa5274",
   "metadata": {},
   "outputs": [
    {
     "name": "stdout",
     "output_type": "stream",
     "text": [
      "[ 4.52956719 -1.69722654]\n"
     ]
    }
   ],
   "source": [
    "print(arr.mean(axis=-1))"
   ]
  },
  {
   "cell_type": "code",
   "execution_count": 49,
   "id": "9b9b1fa4",
   "metadata": {},
   "outputs": [
    {
     "name": "stdout",
     "output_type": "stream",
     "text": [
      "[-5.61878898  0.70057079  7.60220705  3.76171542  0.63514734]\n"
     ]
    }
   ],
   "source": [
    "# compute the means by colume\n",
    "print(arr.mean(axis=0))"
   ]
  },
  {
   "cell_type": "code",
   "execution_count": 50,
   "id": "b9b2954a",
   "metadata": {},
   "outputs": [
    {
     "name": "stdout",
     "output_type": "stream",
     "text": [
      "14.161703255368419\n"
     ]
    }
   ],
   "source": [
    "#sum all the element\n",
    "print(arr.sum())"
   ]
  },
  {
   "cell_type": "code",
   "execution_count": 51,
   "id": "f4d804ee",
   "metadata": {},
   "outputs": [
    {
     "name": "stdout",
     "output_type": "stream",
     "text": [
      "[5.43712294 1.60678661]\n"
     ]
    }
   ],
   "source": [
    "#compute the medians\n",
    "print(np.median(arr, axis=1))"
   ]
  },
  {
   "cell_type": "markdown",
   "id": "51307d58",
   "metadata": {},
   "source": [
    "# Sorting"
   ]
  },
  {
   "cell_type": "code",
   "execution_count": 52,
   "id": "f5a5317a",
   "metadata": {},
   "outputs": [
    {
     "name": "stdout",
     "output_type": "stream",
     "text": [
      "[ 1.41401211 -1.80162392 -1.10971368 -1.21490434  1.15913535  0.42629433\n",
      " -0.49689983  0.84245308  0.28025225 -2.59159668]\n"
     ]
    }
   ],
   "source": [
    "# createw a 10 element array of randoms\n",
    "unsorted=np.random.randn(10)\n",
    "print(unsorted)"
   ]
  },
  {
   "cell_type": "code",
   "execution_count": 53,
   "id": "40d6e6f6",
   "metadata": {},
   "outputs": [],
   "source": [
    "# create copy and sort\n"
   ]
  },
  {
   "cell_type": "markdown",
   "id": "982a5f24",
   "metadata": {},
   "source": [
    "# Finding unique element"
   ]
  },
  {
   "cell_type": "code",
   "execution_count": 54,
   "id": "f896cb65",
   "metadata": {},
   "outputs": [
    {
     "name": "stdout",
     "output_type": "stream",
     "text": [
      "[1 2 1 4 2 1 4 2]\n",
      "[1 2 4]\n"
     ]
    }
   ],
   "source": [
    "array=np.array([1,2,1,4,2,1,4,2])\n",
    "print(array)\n",
    "print(np.unique(array))"
   ]
  },
  {
   "cell_type": "markdown",
   "id": "c32bf283",
   "metadata": {},
   "source": [
    "# Set Operatiopns with np.array data type:"
   ]
  },
  {
   "cell_type": "code",
   "execution_count": 55,
   "id": "a94e0404",
   "metadata": {},
   "outputs": [
    {
     "name": "stdout",
     "output_type": "stream",
     "text": [
      "['desk' 'chair' 'bulb'] ['lamp' 'bulb' 'chair']\n"
     ]
    }
   ],
   "source": [
    "s1=np.array(['desk','chair','bulb'])\n",
    "s2=np.array(['lamp','bulb','chair'])\n",
    "print(s1,s2)"
   ]
  },
  {
   "cell_type": "code",
   "execution_count": 56,
   "id": "66be6272",
   "metadata": {},
   "outputs": [
    {
     "name": "stdout",
     "output_type": "stream",
     "text": [
      "['bulb' 'chair']\n"
     ]
    }
   ],
   "source": [
    "print(np.intersect1d(s1,s2))"
   ]
  },
  {
   "cell_type": "code",
   "execution_count": 57,
   "id": "399dfca7",
   "metadata": {},
   "outputs": [
    {
     "name": "stdout",
     "output_type": "stream",
     "text": [
      "['bulb' 'chair' 'desk' 'lamp']\n"
     ]
    }
   ],
   "source": [
    "print(np.union1d(s1,s2))"
   ]
  },
  {
   "cell_type": "code",
   "execution_count": 58,
   "id": "b362daea",
   "metadata": {},
   "outputs": [
    {
     "name": "stdout",
     "output_type": "stream",
     "text": [
      "['desk']\n"
     ]
    }
   ],
   "source": [
    "print(np.setdiff1d(s1,s2)) # element in s1 that are not in s2"
   ]
  },
  {
   "cell_type": "code",
   "execution_count": 59,
   "id": "011214da",
   "metadata": {},
   "outputs": [
    {
     "name": "stdout",
     "output_type": "stream",
     "text": [
      "[False  True  True]\n"
     ]
    }
   ],
   "source": [
    "print(np.in1d(s1,s2)) # which element of s1 is aslo s2"
   ]
  },
  {
   "cell_type": "markdown",
   "id": "22e3b08b",
   "metadata": {},
   "source": [
    "# Broadcasting \n",
    "Introduction to broadcasting"
   ]
  },
  {
   "cell_type": "code",
   "execution_count": 60,
   "id": "6106922f",
   "metadata": {},
   "outputs": [
    {
     "name": "stdout",
     "output_type": "stream",
     "text": [
      "[[0. 0. 0.]\n",
      " [0. 0. 0.]\n",
      " [0. 0. 0.]\n",
      " [0. 0. 0.]]\n"
     ]
    }
   ],
   "source": [
    "import numpy as np\n",
    "start=np.zeros((4,3))\n",
    "print(start)"
   ]
  },
  {
   "cell_type": "code",
   "execution_count": 61,
   "id": "0df30463",
   "metadata": {},
   "outputs": [
    {
     "name": "stdout",
     "output_type": "stream",
     "text": [
      "[1 0 2]\n"
     ]
    }
   ],
   "source": [
    "# create a rank 1 ndarray with 3 values\n",
    "add_rows=np.array([1,0,2])\n",
    "print(add_rows)"
   ]
  },
  {
   "cell_type": "code",
   "execution_count": 62,
   "id": "081aeed7",
   "metadata": {},
   "outputs": [
    {
     "name": "stdout",
     "output_type": "stream",
     "text": [
      "[[1. 0. 2.]\n",
      " [1. 0. 2.]\n",
      " [1. 0. 2.]\n",
      " [1. 0. 2.]]\n"
     ]
    }
   ],
   "source": [
    "y=start+add_rows\n",
    "print(y)"
   ]
  },
  {
   "cell_type": "code",
   "execution_count": 63,
   "id": "ca84cbea",
   "metadata": {},
   "outputs": [
    {
     "name": "stdout",
     "output_type": "stream",
     "text": [
      "[[0]\n",
      " [1]\n",
      " [2]\n",
      " [3]]\n"
     ]
    }
   ],
   "source": [
    "# create an ndarray which is 4*1 to broadcast across columns\n",
    "add_cols=np.array([[0,1,2,3]])\n",
    "add_cols=add_cols.T\n",
    "print(add_cols)"
   ]
  },
  {
   "cell_type": "code",
   "execution_count": 64,
   "id": "a3bb37ac",
   "metadata": {},
   "outputs": [
    {
     "name": "stdout",
     "output_type": "stream",
     "text": [
      "[[0. 0. 0.]\n",
      " [1. 1. 1.]\n",
      " [2. 2. 2.]\n",
      " [3. 3. 3.]]\n"
     ]
    }
   ],
   "source": [
    "y=start+add_cols\n",
    "print(y)"
   ]
  },
  {
   "cell_type": "code",
   "execution_count": 65,
   "id": "bfef782f",
   "metadata": {},
   "outputs": [
    {
     "name": "stdout",
     "output_type": "stream",
     "text": [
      "[[1. 1. 1.]\n",
      " [1. 1. 1.]\n",
      " [1. 1. 1.]\n",
      " [1. 1. 1.]]\n"
     ]
    }
   ],
   "source": [
    "add_scalar=np.array(1)\n",
    "print(start+add_scalar)"
   ]
  },
  {
   "cell_type": "code",
   "execution_count": 66,
   "id": "d15ea393",
   "metadata": {},
   "outputs": [
    {
     "name": "stdout",
     "output_type": "stream",
     "text": [
      "[[1 1]\n",
      " [1 1]]\n",
      "[[1 1]\n",
      " [1 1]]\n"
     ]
    }
   ],
   "source": [
    "a = np.array([[0,0],[0,0]])\n",
    "b1 = np.array([1,1])\n",
    "b2 = 1\n",
    "print(a+b1)\n",
    "print(a+b2)"
   ]
  },
  {
   "cell_type": "markdown",
   "id": "199f13ce",
   "metadata": {},
   "source": [
    "# Speedtest: ndarrays vs lists\n"
   ]
  },
  {
   "cell_type": "code",
   "execution_count": 67,
   "id": "dd9489d4",
   "metadata": {},
   "outputs": [],
   "source": [
    "from numpy import arange\n",
    "from timeit import Timer\n",
    "size = 1000000\n",
    "timeits = 1000"
   ]
  },
  {
   "cell_type": "code",
   "execution_count": 68,
   "id": "bb420be1",
   "metadata": {},
   "outputs": [
    {
     "name": "stdout",
     "output_type": "stream",
     "text": [
      "<class 'numpy.ndarray'>\n"
     ]
    }
   ],
   "source": [
    "nd_array=arange(size)\n",
    "print(type(nd_array))"
   ]
  },
  {
   "cell_type": "code",
   "execution_count": null,
   "id": "3e7a48cd",
   "metadata": {},
   "outputs": [],
   "source": []
  }
 ],
 "metadata": {
  "kernelspec": {
   "display_name": "Python 3 (ipykernel)",
   "language": "python",
   "name": "python3"
  },
  "language_info": {
   "codemirror_mode": {
    "name": "ipython",
    "version": 3
   },
   "file_extension": ".py",
   "mimetype": "text/x-python",
   "name": "python",
   "nbconvert_exporter": "python",
   "pygments_lexer": "ipython3",
   "version": "3.9.12"
  }
 },
 "nbformat": 4,
 "nbformat_minor": 5
}
